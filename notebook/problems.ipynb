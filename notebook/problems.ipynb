{
 "cells": [
  {
   "cell_type": "markdown",
   "id": "5dbe7b9e",
   "metadata": {},
   "source": [
    "# Calculus and Algebra problems"
   ]
  },
  {
   "cell_type": "markdown",
   "id": "519c4b12",
   "metadata": {},
   "source": [
    "## Calculus\n",
    "\n",
    "Calculus is not obscure. It is the language for modeling behaviors. Calculus enables us to find the rate of changes in order to optimise a function. Without calculus, we would not be able to fully understand techniques such as:\n",
    "\n",
    "Backpropagation in neural networks\n",
    "\n",
    "Regression using optimal least square\n",
    "\n",
    "Expectation maximization in fitting probability models"
   ]
  },
  {
   "cell_type": "markdown",
   "id": "b7e2e87a",
   "metadata": {},
   "source": [
    "### Exercise 1\n",
    "\n",
    "Let’s say in my office, it takes me 10 seconds (time) to travel 25 meters (distance) to the coffee machine.\n",
    "If we want to express the above situation as a function, then it would be:\n",
    "\n",
    "distance = speed * time\n",
    "\n",
    "So for this case, speed is the first derivative of the distance function above. As speed describes the rate of change of distance over time, when people say taking the first derivative of a certain function, they mean finding out the rate of change of a function.\n",
    "\n",
    "**Find the speed and build the linear function on distance $(d)$ over time $(t)$, when $(t ∈ [0,10])$.**"
   ]
  },
  {
   "cell_type": "code",
   "execution_count": 9,
   "id": "760baaae-d8b5-4584-864d-6773b323af3e",
   "metadata": {},
   "outputs": [],
   "source": [
    "#import libraries\n",
    "import pandas as pd\n",
    "import matplotlib.pyplot as plt\n",
    "import numpy as np\n",
    "import sympy"
   ]
  },
  {
   "cell_type": "code",
   "execution_count": 10,
   "id": "bb3e954e",
   "metadata": {},
   "outputs": [],
   "source": [
    "#define the distance function\n",
    "m = 25/10\n",
    "def distance(m, t): return m * t"
   ]
  },
  {
   "cell_type": "code",
   "execution_count": 11,
   "id": "dbc4c780",
   "metadata": {},
   "outputs": [
    {
     "data": {
      "image/png": "[encoded data removed]",
      "text/plain": [
       "<Figure size 640x480 with 1 Axes>"
      ]
     },
     "metadata": {},
     "output_type": "display_data"
    }
   ],
   "source": [
    "#plot the distance function on domain(t)\n",
    "d = []\n",
    "for i in range(1, 11):\n",
    "    d.append(distance(m,i))\n",
    "\n",
    "plt.plot(range(1,11), d, label='Distance')\n",
    "plt.legend()\n",
    "plt.show()"
   ]
  },
  {
   "cell_type": "code",
   "execution_count": 12,
   "id": "4c4d4f20",
   "metadata": {},
   "outputs": [
    {
     "data": {
      "text/html": [
       "<div>\n",
       "<style scoped>\n",
       "    .dataframe tbody tr th:only-of-type {\n",
       "        vertical-align: middle;\n",
       "    }\n",
       "\n",
       "    .dataframe tbody tr th {\n",
       "        vertical-align: top;\n",
       "    }\n",
       "\n",
       "    .dataframe thead th {\n",
       "        text-align: right;\n",
       "    }\n",
       "</style>\n",
       "<table border=\"1\" class=\"dataframe\">\n",
       "  <thead>\n",
       "    <tr style=\"text-align: right;\">\n",
       "      <th></th>\n",
       "      <th>Time(seconds)</th>\n",
       "      <th>Speed</th>\n",
       "      <th>Distance(mts)</th>\n",
       "    </tr>\n",
       "  </thead>\n",
       "  <tbody>\n",
       "    <tr>\n",
       "      <th>0</th>\n",
       "      <td>1</td>\n",
       "      <td>2.5</td>\n",
       "      <td>2.5</td>\n",
       "    </tr>\n",
       "    <tr>\n",
       "      <th>1</th>\n",
       "      <td>2</td>\n",
       "      <td>2.5</td>\n",
       "      <td>5.0</td>\n",
       "    </tr>\n",
       "    <tr>\n",
       "      <th>2</th>\n",
       "      <td>3</td>\n",
       "      <td>2.5</td>\n",
       "      <td>7.5</td>\n",
       "    </tr>\n",
       "    <tr>\n",
       "      <th>3</th>\n",
       "      <td>4</td>\n",
       "      <td>2.5</td>\n",
       "      <td>10.0</td>\n",
       "    </tr>\n",
       "    <tr>\n",
       "      <th>4</th>\n",
       "      <td>5</td>\n",
       "      <td>2.5</td>\n",
       "      <td>12.5</td>\n",
       "    </tr>\n",
       "    <tr>\n",
       "      <th>5</th>\n",
       "      <td>6</td>\n",
       "      <td>2.5</td>\n",
       "      <td>15.0</td>\n",
       "    </tr>\n",
       "    <tr>\n",
       "      <th>6</th>\n",
       "      <td>7</td>\n",
       "      <td>2.5</td>\n",
       "      <td>17.5</td>\n",
       "    </tr>\n",
       "    <tr>\n",
       "      <th>7</th>\n",
       "      <td>8</td>\n",
       "      <td>2.5</td>\n",
       "      <td>20.0</td>\n",
       "    </tr>\n",
       "    <tr>\n",
       "      <th>8</th>\n",
       "      <td>9</td>\n",
       "      <td>2.5</td>\n",
       "      <td>22.5</td>\n",
       "    </tr>\n",
       "    <tr>\n",
       "      <th>9</th>\n",
       "      <td>10</td>\n",
       "      <td>2.5</td>\n",
       "      <td>25.0</td>\n",
       "    </tr>\n",
       "  </tbody>\n",
       "</table>\n",
       "</div>"
      ],
      "text/plain": [
       "   Time(seconds)  Speed  Distance(mts)\n",
       "0              1    2.5            2.5\n",
       "1              2    2.5            5.0\n",
       "2              3    2.5            7.5\n",
       "3              4    2.5           10.0\n",
       "4              5    2.5           12.5\n",
       "5              6    2.5           15.0\n",
       "6              7    2.5           17.5\n",
       "7              8    2.5           20.0\n",
       "8              9    2.5           22.5\n",
       "9             10    2.5           25.0"
      ]
     },
     "execution_count": 12,
     "metadata": {},
     "output_type": "execute_result"
    }
   ],
   "source": [
    "# create a dataframe\n",
    "const_m_df = pd.DataFrame(data={'Time(seconds)': range(1, 11), 'Speed': [m] * 10, 'Distance(mts)': d})\n",
    "const_m_df"
   ]
  },
  {
   "cell_type": "markdown",
   "id": "1144168d",
   "metadata": {},
   "source": [
    "### Exercise 2\n",
    "\n",
    "It turned out that I wasn't walking a constant speed towards getting my coffee but I was accelerating (my speed increased over time). If initial speed = 0, it still took me 10 seconds to travel from my seat to my coffee but I was walking faster and faster.\n",
    "\n",
    "$V_o$ = initial speed = $0$\n",
    "\n",
    "t = time\n",
    "\n",
    "a = acceleration\n",
    "\n",
    "**distance** = $V_o * t + 0.5 * a * (t^2)$\n",
    "\n",
    "**speed** = $V_o + a * t$\n",
    "\n",
    "The first derivative of the speed function is acceleration. I realise that the speed function is closely related to the distance function.\n",
    "\n",
    "**Find the acceleration value and build the quadratic function  $(t ∈ [0,10])$. Also create a graph and a table.**"
   ]
  },
  {
   "cell_type": "code",
   "execution_count": 13,
   "id": "12a31dec-57ce-4448-9cda-6f5bf30e69e7",
   "metadata": {},
   "outputs": [],
   "source": [
    "def distance(acceleration, time):\n",
    "    return 0.5 * acceleration * time**2\n",
    "\n",
    "def speed(acceleration, time):\n",
    "    return acceleration * time"
   ]
  },
  {
   "cell_type": "code",
   "execution_count": 14,
   "id": "ec1f8bd7",
   "metadata": {},
   "outputs": [
    {
     "data": {
      "image/png": "[encoded data removed]",
      "text/plain": [
       "<Figure size 640x480 with 1 Axes>"
      ]
     },
     "metadata": {},
     "output_type": "display_data"
    }
   ],
   "source": [
    "fd = 25\n",
    "time, time_range = 10, range(0,11)\n",
    "acc = (fd * 2)/(time**2)\n",
    "dst = [distance(acc, time) for time in time_range]\n",
    "speed = [speed(acc, time) for time in time_range]\n",
    "\n",
    "plt.plot(time_range, dst, label='Distance vs Time')\n",
    "plt.show()"
   ]
  },
  {
   "cell_type": "code",
   "execution_count": 15,
   "id": "ba5c497b",
   "metadata": {},
   "outputs": [
    {
     "data": {
      "text/html": [
       "<div>\n",
       "<style scoped>\n",
       "    .dataframe tbody tr th:only-of-type {\n",
       "        vertical-align: middle;\n",
       "    }\n",
       "\n",
       "    .dataframe tbody tr th {\n",
       "        vertical-align: top;\n",
       "    }\n",
       "\n",
       "    .dataframe thead th {\n",
       "        text-align: right;\n",
       "    }\n",
       "</style>\n",
       "<table border=\"1\" class=\"dataframe\">\n",
       "  <thead>\n",
       "    <tr style=\"text-align: right;\">\n",
       "      <th></th>\n",
       "      <th>Distance(mts)</th>\n",
       "      <th>Speed(mts/s)</th>\n",
       "      <th>Time(S)</th>\n",
       "    </tr>\n",
       "  </thead>\n",
       "  <tbody>\n",
       "    <tr>\n",
       "      <th>0</th>\n",
       "      <td>0.00</td>\n",
       "      <td>0.0</td>\n",
       "      <td>0</td>\n",
       "    </tr>\n",
       "    <tr>\n",
       "      <th>1</th>\n",
       "      <td>0.25</td>\n",
       "      <td>0.5</td>\n",
       "      <td>1</td>\n",
       "    </tr>\n",
       "    <tr>\n",
       "      <th>2</th>\n",
       "      <td>1.00</td>\n",
       "      <td>1.0</td>\n",
       "      <td>2</td>\n",
       "    </tr>\n",
       "    <tr>\n",
       "      <th>3</th>\n",
       "      <td>2.25</td>\n",
       "      <td>1.5</td>\n",
       "      <td>3</td>\n",
       "    </tr>\n",
       "    <tr>\n",
       "      <th>4</th>\n",
       "      <td>4.00</td>\n",
       "      <td>2.0</td>\n",
       "      <td>4</td>\n",
       "    </tr>\n",
       "    <tr>\n",
       "      <th>5</th>\n",
       "      <td>6.25</td>\n",
       "      <td>2.5</td>\n",
       "      <td>5</td>\n",
       "    </tr>\n",
       "    <tr>\n",
       "      <th>6</th>\n",
       "      <td>9.00</td>\n",
       "      <td>3.0</td>\n",
       "      <td>6</td>\n",
       "    </tr>\n",
       "    <tr>\n",
       "      <th>7</th>\n",
       "      <td>12.25</td>\n",
       "      <td>3.5</td>\n",
       "      <td>7</td>\n",
       "    </tr>\n",
       "    <tr>\n",
       "      <th>8</th>\n",
       "      <td>16.00</td>\n",
       "      <td>4.0</td>\n",
       "      <td>8</td>\n",
       "    </tr>\n",
       "    <tr>\n",
       "      <th>9</th>\n",
       "      <td>20.25</td>\n",
       "      <td>4.5</td>\n",
       "      <td>9</td>\n",
       "    </tr>\n",
       "    <tr>\n",
       "      <th>10</th>\n",
       "      <td>25.00</td>\n",
       "      <td>5.0</td>\n",
       "      <td>10</td>\n",
       "    </tr>\n",
       "  </tbody>\n",
       "</table>\n",
       "</div>"
      ],
      "text/plain": [
       "    Distance(mts)  Speed(mts/s)  Time(S)\n",
       "0            0.00           0.0        0\n",
       "1            0.25           0.5        1\n",
       "2            1.00           1.0        2\n",
       "3            2.25           1.5        3\n",
       "4            4.00           2.0        4\n",
       "5            6.25           2.5        5\n",
       "6            9.00           3.0        6\n",
       "7           12.25           3.5        7\n",
       "8           16.00           4.0        8\n",
       "9           20.25           4.5        9\n",
       "10          25.00           5.0       10"
      ]
     },
     "execution_count": 15,
     "metadata": {},
     "output_type": "execute_result"
    }
   ],
   "source": [
    "#create a dataframe\n",
    "const_acc_df = pd.DataFrame({'Distance(mts)': dst, 'Speed(mts/s)': speed, 'Time(S)': time_range})\n",
    "const_acc_df"
   ]
  },
  {
   "cell_type": "markdown",
   "id": "66d4cc18",
   "metadata": {},
   "source": [
    "Before exercise 3, we'll make a brief introduction to Gradient Descent algorithm, which will have a larger explanation in future modules of the bootcamp.\n",
    "\n",
    "Gradient Descent algorithm is the hero behind the family of deep learning algorithms. When an algorithm in this family runs, it tries to minimize the error between the training input and predicted output. This minimization is done by optimization algorithms and gradient descent is the most popular one.\n",
    "\n",
    "Let’s say you have these input & output pairs:\n",
    "\n",
    "```py\n",
    "input:\n",
    "[\n",
    " [1,2],\n",
    " [3,4]\n",
    "]\n",
    "\n",
    "output:\n",
    "\n",
    "[\n",
    " [50],\n",
    " [110]\n",
    "]\n",
    "```\n",
    "We can estimate that if we multiply the input values by [10, 20], we can have the output as shown above.\n",
    "```py\n",
    "1(10) + 2(20) = 50\n",
    "\n",
    "3(10) + 4(20) = 110\n",
    "```\n",
    "When a machine learning algorithm starts running, it assigns random values and makes a prediction. \n",
    "Let’s say it assigned [1,2] values:\n",
    "```py\n",
    "1(1) + 2(2) = 5\n",
    "\n",
    "3(1) + 4(2) = 11\n",
    "```\n",
    "Once it has the predictions, it calculates the error: the difference between the real data and the predicted data. There are many ways to calculate the error and they are called loss functions. \n",
    "Once we have this value, the optimization algorithm starts showing itself and it sets new values which replace the initial random values. \n",
    "\n",
    "And, the loop continues until a condition is met. That condition can be to loop n times, or to loop until error is smaller than a value."
   ]
  },
  {
   "cell_type": "markdown",
   "id": "85ef2f0b",
   "metadata": {},
   "source": [
    "It can be hard to understand **gradient descent** without understanding **gradient**. So, let’s focus on what gradient is. The gradient shows the direction of the greatest change of a scalar function. The gradient calculation is done with derivatives, so let’s start with a simple example. To calculate the gradient, we just need to remember some linear algebra calculations from high school because we need to calculate derivatives.\n",
    "\n",
    "Let’s say we want to find the minimum point of $f(x) = x^2$. The derivative of that function is $df(x)=2^x$. \n",
    "\n",
    "The gradient of $f(x)$ at point $x=-10$\n",
    "\n",
    "is \n",
    "\n",
    "$df(-10)=-20$.\n",
    "\n",
    "The gradient of $f(x)$ at point $x=1$\n",
    "\n",
    "is \n",
    "\n",
    "$df(1)=2$.\n",
    "\n",
    "Now let’s visualize $f(x)$ and those $x=-10$ and $x=1$ points."
   ]
  },
  {
   "cell_type": "code",
   "execution_count": 17,
   "id": "4ff7e11a",
   "metadata": {},
   "outputs": [],
   "source": [
    "import numpy as np\n",
    "import seaborn as sns\n",
    "\n",
    "def f(x):\n",
    "    return x**2\n",
    "\n",
    "def df(x):\n",
    "    return 2*x\n",
    "\n",
    "def visualize(f, x=None):\n",
    "    \n",
    "    xArray = np.linspace(-10, 10, 100) \n",
    "    yArray = f(xArray)\n",
    "    sns.lineplot(x=xArray, y=yArray)\n",
    "    \n",
    "    if x is not None:\n",
    "        assert type(x) in [np.ndarray, list] # x should be numpy array or list\n",
    "        if type(x) is list: # if it is a list, convert to numpy array\n",
    "            x = np.array(x)\n",
    "\n",
    "            \n",
    "        y = f(x)\n",
    "        sns.scatterplot(x=x, y=y, color='red')"
   ]
  },
  {
   "cell_type": "code",
   "execution_count": 18,
   "id": "633a54fd",
   "metadata": {},
   "outputs": [
    {
     "name": "stderr",
     "output_type": "stream",
     "text": [
      "C:\\Users\\diego\\miniconda3\\envs\\.env\\lib\\site-packages\\seaborn\\_oldcore.py:1119: FutureWarning: use_inf_as_na option is deprecated and will be removed in a future version. Convert inf values to NaN before operating instead.\n",
      "  with pd.option_context('mode.use_inf_as_na', True):\n",
      "C:\\Users\\diego\\miniconda3\\envs\\.env\\lib\\site-packages\\seaborn\\_oldcore.py:1119: FutureWarning: use_inf_as_na option is deprecated and will be removed in a future version. Convert inf values to NaN before operating instead.\n",
      "  with pd.option_context('mode.use_inf_as_na', True):\n"
     ]
    },
    {
     "data": {
      "image/png": "[encoded data removed]",
      "text/plain": [
       "<Figure size 640x480 with 1 Axes>"
      ]
     },
     "metadata": {},
     "output_type": "display_data"
    }
   ],
   "source": [
    "visualize(f, x=[-10, 1])"
   ]
  },
  {
   "cell_type": "markdown",
   "id": "9c187ad7",
   "metadata": {},
   "source": [
    "The red dot at x=-10 does not know the surface it stands on and it only knows the coordinates of where it stands and that the gradient of itself which is -20. And the other red dot at x=1 does not know the surface it stands on and it only knows the coordinates of where it stands and that the gradient of itself which is 2.\n",
    "\n",
    "By having only this information: we can say that the red dot at x=-10 should make a bigger jump than x=1 because it has a bigger absolute gradient value. The sign shows the direction. - shows that the red dot at x=-10 should move to the right and the other one should move to the left.\n",
    "\n",
    "In summary; the red dot at x=-10 (gradient: -20) should make a bigger jump to the right and the red dot at x=1 (gradient: 2) should make a smaller jump to the left. \n",
    "\n",
    "We know that the jump length should be proportional to the gradient, but what is that value exactly? We don’t know. So, let’s just say that red points should move with the length of alpha*gradient where alpha is just a parameter.\n",
    "\n",
    "We can say that the new location of the red dot should be calculated with the following formula:\n",
    "\n",
    "x = x - gradient * alpha"
   ]
  },
  {
   "cell_type": "markdown",
   "id": "0a7f5c3f",
   "metadata": {},
   "source": [
    "Now let's implement this with **Numpy**. Let’s start with visualizing $f(x)=x^2$ function and $x=-10$ point."
   ]
  },
  {
   "cell_type": "code",
   "execution_count": 48,
   "id": "e26dbdf0",
   "metadata": {},
   "outputs": [
    {
     "name": "stderr",
     "output_type": "stream",
     "text": [
      "C:\\Users\\diego\\miniconda3\\envs\\.env\\lib\\site-packages\\seaborn\\_oldcore.py:1119: FutureWarning: use_inf_as_na option is deprecated and will be removed in a future version. Convert inf values to NaN before operating instead.\n",
      "  with pd.option_context('mode.use_inf_as_na', True):\n",
      "C:\\Users\\diego\\miniconda3\\envs\\.env\\lib\\site-packages\\seaborn\\_oldcore.py:1119: FutureWarning: use_inf_as_na option is deprecated and will be removed in a future version. Convert inf values to NaN before operating instead.\n",
      "  with pd.option_context('mode.use_inf_as_na', True):\n"
     ]
    },
    {
     "data": {
      "image/png": "[encoded data removed]",
      "text/plain": [
       "<Figure size 640x480 with 1 Axes>"
      ]
     },
     "metadata": {},
     "output_type": "display_data"
    }
   ],
   "source": [
    "visualize(f, x=[-10])"
   ]
  },
  {
   "cell_type": "markdown",
   "id": "6e752e19",
   "metadata": {},
   "source": [
    "The following code implements the whole logic explained before:"
   ]
  },
  {
   "cell_type": "code",
   "execution_count": 49,
   "id": "2bdd54f1",
   "metadata": {},
   "outputs": [],
   "source": [
    "def gradient_descent(x, nsteps=1):\n",
    "    \n",
    "    \n",
    "    #collectXs is an array to store how x changed in each iteration, \n",
    "    #so we can visualize it later\n",
    "    \n",
    "    collectXs = [x]\n",
    "    \n",
    "    #learning_rate is the value that we mentioned as alpha in previous section\n",
    "    \n",
    "    learning_rate = 1e-01\n",
    "    \n",
    "    for _ in range(nsteps):\n",
    "        \n",
    "        #the following one line does the real magic\n",
    "        #the next value of x is calculated by subtracting the gradient*learning_rate by itself\n",
    "        #the intuation behind this line is in the previous section\n",
    "        \n",
    "        x -= df(x) * learning_rate \n",
    "        collectXs.append(x)\n",
    "        \n",
    "    #we return a tuple that contains\n",
    "    #x -> recent x after nsteps \n",
    "    #collectXs -> all the x values that was calculated so far\n",
    "    \n",
    "    return x, collectXs"
   ]
  },
  {
   "cell_type": "markdown",
   "id": "aea74a65",
   "metadata": {},
   "source": [
    "Before running gradient descent with 1000 steps, let’s just run it twice, one step at a time to see how x evolves. \n",
    "We start with x=-10 and it evolves to x=-8. We know that when x=0 that is the **minimum point**, so, yes it is evolving in the correct direction."
   ]
  },
  {
   "cell_type": "code",
   "execution_count": 50,
   "id": "0350981e",
   "metadata": {},
   "outputs": [
    {
     "name": "stdout",
     "output_type": "stream",
     "text": [
      "-8.0\n"
     ]
    }
   ],
   "source": [
    "x=-10\n",
    "x, collectedXs = gradient_descent(x, nsteps=1)\n",
    "print(x)"
   ]
  },
  {
   "cell_type": "code",
   "execution_count": 51,
   "id": "f8e01e2d",
   "metadata": {},
   "outputs": [
    {
     "name": "stdout",
     "output_type": "stream",
     "text": [
      "-6.4\n"
     ]
    }
   ],
   "source": [
    "#The next step will start at x=-8. Let's run gradient for 1 step\n",
    "\n",
    "x, collectedXs = gradient_descent(x, nsteps=1)\n",
    "print(x)"
   ]
  },
  {
   "cell_type": "markdown",
   "id": "93f13b32",
   "metadata": {},
   "source": [
    "It goes to x=-6.4. Excelent. Now let's run it 1000 times"
   ]
  },
  {
   "cell_type": "code",
   "execution_count": 52,
   "id": "b699d1fb",
   "metadata": {},
   "outputs": [
    {
     "name": "stdout",
     "output_type": "stream",
     "text": [
      "-7.873484301831169e-97\n"
     ]
    }
   ],
   "source": [
    "x, collectedXs = gradient_descent(x, nsteps=1000)\n",
    "print(x)"
   ]
  },
  {
   "cell_type": "code",
   "execution_count": 53,
   "id": "0b76ee22",
   "metadata": {},
   "outputs": [
    {
     "name": "stderr",
     "output_type": "stream",
     "text": [
      "C:\\Users\\diego\\miniconda3\\envs\\.env\\lib\\site-packages\\seaborn\\_oldcore.py:1119: FutureWarning: use_inf_as_na option is deprecated and will be removed in a future version. Convert inf values to NaN before operating instead.\n",
      "  with pd.option_context('mode.use_inf_as_na', True):\n",
      "C:\\Users\\diego\\miniconda3\\envs\\.env\\lib\\site-packages\\seaborn\\_oldcore.py:1119: FutureWarning: use_inf_as_na option is deprecated and will be removed in a future version. Convert inf values to NaN before operating instead.\n",
      "  with pd.option_context('mode.use_inf_as_na', True):\n"
     ]
    },
    {
     "data": {
      "image/png": "[encoded data removed]",
      "text/plain": [
       "<Figure size 640x480 with 1 Axes>"
      ]
     },
     "metadata": {},
     "output_type": "display_data"
    }
   ],
   "source": [
    "visualize(f, x=collectedXs)"
   ]
  },
  {
   "cell_type": "markdown",
   "id": "d00d2fbb",
   "metadata": {},
   "source": [
    "### Exercise 3\n",
    "\n",
    "When I arrive to the coffee machine, I hear my colleague talking about the per-unit costs of producing 'product B' for the company. As the company produces more units, the per-unit costs continue to decrease until a point where it starts to increase.\n",
    "\n",
    "To optimise the per-unit production cost at its minimal to optimise efficiency, the company would need to find the number of units to be produced where the per-unit production costs begin to change from decreasing to increasing.\n",
    "\n",
    "**Build a quadratic function $f(x)=0.1(x)^2−9x +4500$ on $x∈[0,100]$  to create the per-unit cost function, and make a conclusion.**"
   ]
  },
  {
   "cell_type": "code",
   "execution_count": 72,
   "id": "7c67d8b7",
   "metadata": {},
   "outputs": [
    {
     "data": {
      "image/png": "[encoded data removed]",
      "text/plain": [
       "<Figure size 640x480 with 1 Axes>"
      ]
     },
     "metadata": {},
     "output_type": "display_data"
    }
   ],
   "source": [
    "#define and plot the funtion\n",
    "def quad_func(x): return .1*(x**2) - 9*(x) + 4500\n",
    "xCol = np.linspace(0,100)\n",
    "#visualize(quad_func, x=xCol)\n",
    "plt.plot(x, quad_func(x))\n",
    "plt.show()"
   ]
  },
  {
   "cell_type": "markdown",
   "id": "fbe54895",
   "metadata": {},
   "source": [
    "We saw with Gradient Descent how the red dot navigates in an environment it does not know about. It only knows the coordinates of where it is and its gradient. The red dot could find the minimum point by using only this knowledge and gradient descent algorithm.\n",
    "\n",
    "**Optional:**\n",
    "\n",
    "Implement all the previous steps to create a gradient descent algorithm to see how the per-unit cost evolves, with a starting point of 0 units of production."
   ]
  },
  {
   "cell_type": "markdown",
   "id": "aabad82c",
   "metadata": {},
   "source": [
    "## Linear Algebra"
   ]
  },
  {
   "cell_type": "markdown",
   "id": "6753636d",
   "metadata": {},
   "source": [
    "### Exercise 1 : Sum of two matrices\n",
    "\n",
    "Suppose we have two matrices A and B.\n",
    "```py\n",
    "A = [[1,2],[3,4]]\n",
    "B = [[4,5],[6,7]]\n",
    "\n",
    "then we get\n",
    "A+B = [[5,7],[9,11]]\n",
    "A-B = [[-3,-3],[-3,-3]]\n",
    "```\n",
    "\n",
    "Make the sum of two matrices using Python with Numpy"
   ]
  },
  {
   "cell_type": "code",
   "execution_count": 26,
   "id": "9e200c32",
   "metadata": {},
   "outputs": [
    {
     "name": "stdout",
     "output_type": "stream",
     "text": [
      "[[7 5]\n",
      " [6 7]]\n",
      "[[0 6]\n",
      " [6 8]]\n"
     ]
    },
    {
     "data": {
      "text/plain": [
       "array([[ 7, 11],\n",
       "       [12, 15]])"
      ]
     },
     "execution_count": 26,
     "metadata": {},
     "output_type": "execute_result"
    }
   ],
   "source": [
    "# creating first matrix\n",
    "m_1 = np.random.randint(0, 10, size=(2,2))\n",
    " \n",
    "# creating second matrix\n",
    "m_2 = np.random.randint(0, 10, size=(2,2))\n",
    " \n",
    "#print elements\n",
    "print(m_1)\n",
    "print(m_2)\n",
    "\n",
    " \n",
    "# adding two matrix\n",
    "np.add(m_1,m_2)"
   ]
  },
  {
   "cell_type": "markdown",
   "id": "93bfb6cc",
   "metadata": {},
   "source": [
    "### Exercise 2: Sum of two lists\n",
    "\n",
    "There will be many situations in which we'll have to find index wise summation of two different lists. This can have possible applications in day-to-day programming. In this exercise we will solve the same problem with various ways in which this task can be performed.\n",
    "\n",
    "We have the following two lists:\n",
    "```py\n",
    "list1 = [2, 5, 4, 7, 3]\n",
    "list2 = [1, 4, 6, 9, 10]\n",
    "```\n",
    "\n",
    "Now let's use Python code to demonstrate addition of two lists.\n"
   ]
  },
  {
   "cell_type": "code",
   "execution_count": 27,
   "id": "867b70fc",
   "metadata": {},
   "outputs": [
    {
     "name": "stdout",
     "output_type": "stream",
     "text": [
      "Original list 1 : [2, 5, 4, 7, 3]\n",
      "Original list 2 : [1, 4, 6, 9, 10]\n",
      "Resultant list is : [3, 9, 10, 16, 13]\n"
     ]
    }
   ],
   "source": [
    "# Naive method\n",
    "\n",
    "# initializing lists\n",
    "list1 = [2, 5, 4, 7, 3]\n",
    "list2 = [1, 4, 6, 9, 10]\n",
    " \n",
    "# printing original lists\n",
    "print (\"Original list 1 : \" + str(list1))\n",
    "print (\"Original list 2 : \" + str(list2))\n",
    " \n",
    "# using naive method to \n",
    "# add two list \n",
    "res_list = []\n",
    "for i in range(0, len(list1)):\n",
    " res_list.append(list1[i] + list2[i])\n",
    " \n",
    "# printing resultant list \n",
    "print (\"Resultant list is : \" + str(res_list))"
   ]
  },
  {
   "cell_type": "markdown",
   "id": "7a063d7f",
   "metadata": {},
   "source": [
    "Now use the following three different methods to make the same calculation: sum of two lists"
   ]
  },
  {
   "cell_type": "code",
   "execution_count": 28,
   "id": "463b16ef-db1e-430b-a34a-901496b76a86",
   "metadata": {},
   "outputs": [
    {
     "name": "stdout",
     "output_type": "stream",
     "text": [
      "ORIGINAL LISTS\n",
      "List 1: [9 4 0 1 9]\n",
      "List 2: [0 1 8 9 0]\n"
     ]
    }
   ],
   "source": [
    "np.random.seed(10)\n",
    "\n",
    "# initializing lists\n",
    "l1, l2 = np.random.randint(0,10, size=5), np.random.randint(0,10,size=5)\n",
    "\n",
    "# printing original lists\n",
    "print('ORIGINAL LISTS')\n",
    "print('List 1:', l1)\n",
    "print('List 2:', l2)"
   ]
  },
  {
   "cell_type": "code",
   "execution_count": 29,
   "id": "681930a3",
   "metadata": {},
   "outputs": [
    {
     "name": "stdout",
     "output_type": "stream",
     "text": [
      "Resulting List: [9, 5, 8, 10, 9]\n"
     ]
    }
   ],
   "source": [
    "# Use list comprehensions to perform addition of the two lists:\n",
    "# using list comprehension to add two list \n",
    "l3 = [l1[i]+l2[i] for i in range(len(l1))]\n",
    " \n",
    "# printing resultant list \n",
    "print('Resulting List:', l3)"
   ]
  },
  {
   "cell_type": "code",
   "execution_count": 30,
   "id": "a3a8a425",
   "metadata": {},
   "outputs": [
    {
     "name": "stdout",
     "output_type": "stream",
     "text": [
      "[9, 5, 8, 10, 9]\n"
     ]
    }
   ],
   "source": [
    "# Use map() + add(): \n",
    "lma = map(np.add, l1, l2)\n",
    " \n",
    "# printing resultant list \n",
    "print(list(lma))"
   ]
  },
  {
   "cell_type": "code",
   "execution_count": 40,
   "id": "1708d7ee",
   "metadata": {},
   "outputs": [
    {
     "name": "stdout",
     "output_type": "stream",
     "text": [
      "[9, 5, 8, 10, 9]\n"
     ]
    }
   ],
   "source": [
    "# Use zip() + sum():\n",
    "lsz = []\n",
    "# Using zip() + sum() to add two list \n",
    "lst = list(zip(l1, l2))\n",
    "for i in lst:\n",
    "    lsz.append(np.sum(i))\n",
    "    \n",
    "# printing resultant list \n",
    "print(lsz)"
   ]
  },
  {
   "cell_type": "markdown",
   "id": "1aef1bd2",
   "metadata": {},
   "source": [
    "### Exercise 3 : Dot multiplication\n",
    "\n",
    "We have two matrices:\n",
    "```py\n",
    "matrix1 = [[1,7,3],\n",
    " [ 4,5,2],\n",
    " [ 3,6,1]]\n",
    "matrix2 = [[5,4,1],\n",
    " [ 1,2,3],\n",
    " [ 4,5,2]]\n",
    "```\n",
    "\n",
    "A simple technique but expensive method for larger input datasets is using for loops. In this exercise we will first use nested for loops to iterate through each row and column of the matrices, and then we will perform the same multiplication using Numpy."
   ]
  },
  {
   "cell_type": "code",
   "execution_count": 45,
   "id": "840e7d0e",
   "metadata": {},
   "outputs": [
    {
     "name": "stdout",
     "output_type": "stream",
     "text": [
      "[[24, 33, 28], [33, 36, 23], [25, 29, 23]]\n"
     ]
    }
   ],
   "source": [
    "#Using a for loop input two matrices of size n x m\n",
    "matrix1 = [[1,7,3],\n",
    " [ 4,5,2],\n",
    " [ 3,6,1]]\n",
    "matrix2 = [[5,4,1],\n",
    " [ 1,2,3],\n",
    " [ 4,5,2]]\n",
    " \n",
    "res = [[0 for x in range(3)] for y in range(3)]\n",
    " \n",
    "# explicit for loops\n",
    "for i in range(len(matrix1)):\n",
    "    for j in range(len(matrix2[0])):\n",
    "        for k in range(len(matrix2)):\n",
    "            # resulted matrix\n",
    "            res[i][j] += matrix1[i][k] * matrix2[k][j]\n",
    "\n",
    "print (res)"
   ]
  },
  {
   "cell_type": "code",
   "execution_count": 47,
   "id": "db6c3355",
   "metadata": {},
   "outputs": [
    {
     "name": "stdout",
     "output_type": "stream",
     "text": [
      "[[24 33 28]\n",
      " [33 36 23]\n",
      " [25 29 23]]\n"
     ]
    }
   ],
   "source": [
    "# This will return dot product\n",
    "m3 = np.dot(matrix1, matrix2)\n",
    " \n",
    "# print resulted matrix\n",
    "print(m3)"
   ]
  },
  {
   "cell_type": "markdown",
   "id": "785f6c30",
   "metadata": {},
   "source": [
    "\n",
    "https://www.youtube.com/channel/UCXq-PLvYAX-EufF5RAPihVg\n",
    "\n",
    "https://www.geeksforgeeks.org/\n",
    "\n",
    "https://medium.com/@seehleung/basic-calculus-explained-for-machine-learning-c7f642e7ced3\n",
    "\n",
    "https://blog.demir.io/understanding-gradient-descent-266fc3dcf02f"
   ]
  }
 ],
 "metadata": {
  "interpreter": {
   "hash": "d3463682613d55fcbb64853e38cc3520a7f67bdf8d6940e781ddcdc423122719"
  },
  "kernelspec": {
   "display_name": "Python 3 (ipykernel)",
   "language": "python",
   "name": "python3"
  },
  "language_info": {
   "codemirror_mode": {
    "name": "ipython",
    "version": 3
   },
   "file_extension": ".py",
   "mimetype": "text/x-python",
   "name": "python",
   "nbconvert_exporter": "python",
   "pygments_lexer": "ipython3",
   "version": "3.10.13"
  }
 },
 "nbformat": 4,
 "nbformat_minor": 5
}
